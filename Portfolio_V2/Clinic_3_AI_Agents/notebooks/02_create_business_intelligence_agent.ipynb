{
 "cells": [
  {
   "cell_type": "code",
   "execution_count": null,
   "id": "5bf1b398-7785-4c2e-99aa-6d439ad92670",
   "metadata": {},
   "outputs": [],
   "source": [
    "from langchain_openai import ChatOpenAI\n",
    "from langchain_groq import ChatGroq\n",
    "\n",
    "from langchain.prompts import PromptTemplate\n",
    "\n",
    "from langchain_core.output_parsers import JsonOutputParser, StrOutputParser\n",
    "from langchain_core.output_parsers import BaseOutputParser\n",
    "\n",
    "from langchain_community.utilities import SQLDatabase\n",
    "from langchain.chains import create_sql_query_chain\n",
    "\n",
    "from langchain_core.tools import tool\n",
    "from langchain_experimental.utilities import PythonREPL\n",
    "\n",
    "from langgraph.graph import END, StateGraph\n",
    "\n",
    "import os\n",
    "import yaml\n",
    "import ast\n",
    "import json\n",
    "import re\n",
    "\n",
    "from pprint import pprint\n",
    "from typing import Annotated, TypedDict\n",
    "\n",
    "import pandas as pd\n",
    "import sqlalchemy as sql\n",
    "\n",
    "import plotly as pl\n",
    "import plotly.express as px\n",
    "import plotly.io as pio\n",
    "\n",
    "from IPython.display import Image"
   ]
  },
  {
   "cell_type": "code",
   "execution_count": null,
   "id": "1e79630c-9dc3-4053-ab75-3020f6c2e089",
   "metadata": {},
   "outputs": [],
   "source": [
    "os.environ[\"OPENAI_API_KEY\"] = yaml.safe_load(open('../credentials.yml'))['openai']\n",
    "os.environ[\"GROQ_API_KEY\"] = yaml.safe_load(open(\"../credentials.yml\"))['groq']\n",
    "\n",
    "OPENAI_LLM = ChatOpenAI(\n",
    "    model = \"gpt-4o-mini\"\n",
    ")\n",
    "\n",
    "GROQ_LLM = ChatGroq(\n",
    "    model=\"llama3-70b-8192\",\n",
    ")\n",
    "\n",
    "llm = OPENAI_LLM"
   ]
  },
  {
   "cell_type": "code",
   "execution_count": null,
   "id": "14131962-9a0b-4c50-8334-2abd981ff3a7",
   "metadata": {},
   "outputs": [
    {
     "data": {
      "text/plain": [
       "PromptTemplate(input_variables=['initial_question'], template=\"\\n    You are an expert in routing decisions for a SQL database agent, a Charting Visualization Agent, and a Pandas Table Agent. Your job is to:\\n    \\n    1. Determine what the correct format for a Users Question should be for use with a SQL translator agent \\n    2. Determine whether or not a chart should be generated or a table should be returned based on the users question.\\n    \\n    Use the following criteria on how to route the the initial user question:\\n    \\n    From the incoming user question, remove any details about the format of the final response as either a Chart or Table and return only the important part of the incoming user question that is relevant for the SQL generator agent. This will be the 'formatted_user_question_sql_only'. If 'None' is found, return the original user question.\\n    \\n    Next, determine if the user would like a data visualization ('chart') or a 'table' returned with the results of the SQL query. If unknown, not specified or 'None' is found, then select 'table'.  \\n    \\n    Return JSON with 'formatted_user_question_sql_only' and 'routing_preprocessor_decision'.\\n    \\n    INITIAL_USER_QUESTION: {initial_question}\\n    \")\n",
       "| ChatOpenAI(client=<openai.resources.chat.completions.Completions object at 0x7fd572a50d00>, async_client=<openai.resources.chat.completions.AsyncCompletions object at 0x7fd572a53820>, model_name='gpt-4o-mini', openai_api_key=SecretStr('**********'), openai_proxy='')\n",
       "| JsonOutputParser()"
      ]
     },
     "execution_count": 3,
     "metadata": {},
     "output_type": "execute_result"
    }
   ],
   "source": [
    "routing_preprocessor_prompt = PromptTemplate(\n",
    "    template=\"\"\"\n",
    "    You are an expert in routing decisions for a SQL database agent, a Charting Visualization Agent, and a Pandas Table Agent. Your job is to:\n",
    "    \n",
    "    1. Determine what the correct format for a Users Question should be for use with a SQL translator agent \n",
    "    2. Determine whether or not a chart should be generated or a table should be returned based on the users question.\n",
    "    \n",
    "    Use the following criteria on how to route the the initial user question:\n",
    "    \n",
    "    From the incoming user question, remove any details about the format of the final response as either a Chart or Table and return only the important part of the incoming user question that is relevant for the SQL generator agent. This will be the 'formatted_user_question_sql_only'. If 'None' is found, return the original user question.\n",
    "    \n",
    "    Next, determine if the user would like a data visualization ('chart') or a 'table' returned with the results of the SQL query. If unknown, not specified or 'None' is found, then select 'table'.  \n",
    "    \n",
    "    Return JSON with 'formatted_user_question_sql_only' and 'routing_preprocessor_decision'.\n",
    "    \n",
    "    INITIAL_USER_QUESTION: {initial_question}\n",
    "    \"\"\",\n",
    "    input_variables=[\"initial_question\"]\n",
    ")\n",
    "\n",
    "routing_preprocessor = routing_preprocessor_prompt | llm | JsonOutputParser()\n",
    "\n",
    "routing_preprocessor"
   ]
  },
  {
   "cell_type": "code",
   "execution_count": null,
   "id": "3d3d2c3d-086e-44ae-99bc-84004369be3c",
   "metadata": {},
   "outputs": [],
   "source": [
    "PATH_DB = \"sqlite:///data/database-sql-transactions/leads_scored.db\"\n",
    "\n",
    "db = SQLDatabase.from_uri(PATH_DB)"
   ]
  },
  {
   "cell_type": "code",
   "execution_count": null,
   "id": "b5640b77-9537-4c79-b809-03fef7049add",
   "metadata": {},
   "outputs": [],
   "source": [
    "def extract_sql_code(text):\n",
    "    sql_code_match = re.search(r'```sql(.*?)```', text, re.DOTALL)\n",
    "    if sql_code_match:\n",
    "        sql_code = sql_code_match.group(1).strip()\n",
    "        return sql_code\n",
    "    else:\n",
    "        sql_code_match = re.search(r\"sql(.*?)'\", text, re.DOTALL)\n",
    "        if sql_code_match:\n",
    "            sql_code = sql_code_match.group(1).strip()\n",
    "            return sql_code\n",
    "        else:\n",
    "            return None\n",
    "\n",
    "# extract_sql_code(\"```sql\\nSELECT * FROM Transactions\\n```\")\n",
    "\n",
    "\n",
    "class SQLOutputParser(BaseOutputParser):\n",
    "    def parse(self, text: str):\n",
    "        sql_code = extract_sql_code(text)\n",
    "        if sql_code is not None:\n",
    "            return sql_code\n",
    "        else:\n",
    "            # Assume ```sql wasn't used\n",
    "            return text\n",
    "\n",
    "prompt_sqlite = PromptTemplate(\n",
    "    input_variables=['input', 'table_info', 'top_k'],\n",
    "    template=\"\"\"\n",
    "    You are a SQLite expert. Given an input question, first create a syntactically correct SQLite query to run, then look at the results of the query and return the answer to the input question.\n",
    "    \n",
    "    Do not use a LIMIT clause with {top_k} unless a user specifies a limit to be returned.\n",
    "    \n",
    "    Return SQL in ```sql ``` format.\n",
    "    \n",
    "    Only return a single query if possible.\n",
    "    \n",
    "    Never query for all columns from a table. You must query only the columns that are needed to answer the question. Wrap each column name in double quotes (\") to denote them as delimited identifiers.\n",
    "    \n",
    "    Pay attention to use only the column names you can see in the tables below. Be careful to not query for columns that do not exist. Also, pay attention to which column is in which table.\n",
    "    \n",
    "    Pay attention to use date(\\'now\\') function to get the current date, if the question involves \"today\".\n",
    "        \n",
    "    Only use the following tables:\n",
    "    {table_info}\n",
    "    \n",
    "    Question: {input}'\n",
    "    \"\"\"\n",
    ")\n",
    "\n",
    "sql_generator = (\n",
    "    create_sql_query_chain(\n",
    "        llm = llm,\n",
    "        db = db,\n",
    "        k = int(1e7),\n",
    "        prompt = prompt_sqlite\n",
    "    ) \n",
    "    | SQLOutputParser() # NEW SQLCodeExtactor\n",
    ")"
   ]
  },
  {
   "cell_type": "code",
   "execution_count": null,
   "id": "b457afad-9ba8-428f-a370-eb5f81fe6707",
   "metadata": {},
   "outputs": [],
   "source": [
    "sql_engine = sql.create_engine(PATH_DB)\n",
    "\n",
    "conn = sql_engine.connect()"
   ]
  },
  {
   "cell_type": "code",
   "execution_count": null,
   "id": "6e04a14d-4ce6-4e14-9b3a-c8e72d498547",
   "metadata": {},
   "outputs": [
    {
     "data": {
      "text/plain": [
       "PromptTemplate(input_variables=['data', 'question'], template='\\n    You are a supervisor that is an expert in providing instructions to a chart generator agent for plotting. \\n    \\n    You will take a question that a user has and the data that was generated to answer the question, and create instructions to create a chart from the data that will be passed to a chart generator agent.\\n    \\n    USER QUESTION: {question}\\n    \\n    DATA: {data}\\n    \\n    Formulate \"chart generator instructions\" by informing the chart generator of what type of plotly plot to use (e.g. bar, line, scatter, etc) to best represent the data. \\n    \\n    Come up with an informative title from the user\\'s question and data provided. Also provide X and Y axis titles.\\n    \\n    Instruct the chart generator to use the following theme colors, sizes, etc:\\n    \\n    - Start with the \"plotly_white\" template\\n    - Use a white background\\n    - Use this color for bars and lines:\\n        \\'blue\\': \\'#3381ff\\',\\n    - Base Font Size: 8.8 (Used for x and y axes tickfont, any annotations, hovertips)\\n    - Title Font Size: 13.2\\n    - Line Size: 0.65 (specify these within the xaxis and yaxis dictionaries)\\n    - Add smoothers or trendlines to scatter plots unless not desired by the user\\n    - Do not use color_discrete_map (this will result in an error)\\n    - Hover tip size: 8.8\\n    \\n    Return your instructions in the following format:\\n    CHART GENERATOR INSTRUCTIONS: FILL IN THE INSTRUCTIONS HERE\\n    \\n    ')\n",
       "| ChatOpenAI(client=<openai.resources.chat.completions.Completions object at 0x7fd572a50d00>, async_client=<openai.resources.chat.completions.AsyncCompletions object at 0x7fd572a53820>, model_name='gpt-4o-mini', openai_api_key=SecretStr('**********'), openai_proxy='')\n",
       "| StrOutputParser()"
      ]
     },
     "execution_count": 7,
     "metadata": {},
     "output_type": "execute_result"
    }
   ],
   "source": [
    "# Creates new instructions specifically for the Chart Generator Agent from the User Question\n",
    "prompt_chart_instructions = PromptTemplate(\n",
    "    template=\"\"\"\n",
    "    You are a supervisor that is an expert in providing instructions to a chart generator agent for plotting. \n",
    "    \n",
    "    You will take a question that a user has and the data that was generated to answer the question, and create instructions to create a chart from the data that will be passed to a chart generator agent.\n",
    "    \n",
    "    USER QUESTION: {question}\n",
    "    \n",
    "    DATA: {data}\n",
    "    \n",
    "    Formulate \"chart generator instructions\" by informing the chart generator of what type of plotly plot to use (e.g. bar, line, scatter, etc) to best represent the data. \n",
    "    \n",
    "    Come up with an informative title from the user's question and data provided. Also provide X and Y axis titles.\n",
    "    \n",
    "    Instruct the chart generator to use the following theme colors, sizes, etc:\n",
    "    \n",
    "    - Start with the \"plotly_white\" template\n",
    "    - Use a white background\n",
    "    - Use this color for bars and lines:\n",
    "        'blue': '#3381ff',\n",
    "    - Base Font Size: 8.8 (Used for x and y axes tickfont, any annotations, hovertips)\n",
    "    - Title Font Size: 13.2\n",
    "    - Line Size: 0.65 (specify these within the xaxis and yaxis dictionaries)\n",
    "    - Add smoothers or trendlines to scatter plots unless not desired by the user\n",
    "    - Do not use color_discrete_map (this will result in an error)\n",
    "    - Hover tip size: 8.8\n",
    "    \n",
    "    Return your instructions in the following format:\n",
    "    CHART GENERATOR INSTRUCTIONS: FILL IN THE INSTRUCTIONS HERE\n",
    "    \n",
    "    \"\"\",\n",
    "    input_variables=['question', 'data']\n",
    ")\n",
    "\n",
    "chart_instructor = prompt_chart_instructions | llm | StrOutputParser()\n",
    "\n",
    "chart_instructor"
   ]
  },
  {
   "cell_type": "code",
   "execution_count": null,
   "id": "233ec86c-6a11-4ca6-a9a6-2f67a7fe0b1e",
   "metadata": {},
   "outputs": [],
   "source": [
    "repl = PythonREPL()\n",
    "\n",
    "# repl.run(\"A = 1; print(A)\")\n",
    "\n",
    "@tool\n",
    "def python_repl(\n",
    "    code: Annotated[str, \"The python code to execute to generate your chart.\"]\n",
    "):\n",
    "    \"\"\"Use this to execute python code. If you want to see the output of a value,\n",
    "    you should print it out with `print(...)`. This is visible to the user.\"\"\"\n",
    "    try:\n",
    "        result = repl.run(code)\n",
    "    except BaseException as e:\n",
    "        return f\"Failed to execute. Error: {repr(e)}\"\n",
    "    return f\"Successfully executed:\\n```python\\n{code}\\n```\\nStdout: {result}\"\n",
    "\n",
    "\n",
    "prompt_chart_generator = PromptTemplate(\n",
    "    template = \"\"\"\n",
    "    You are an expert in creating data visualizations and plots using the plotly python library. You must use plotly or plotly.express to produce plots.\n",
    "    \n",
    "    Your job is to produce python code to generate visualizations.\n",
    "    \n",
    "    Create the python code to produce the requested visualization given the plot requested from the original user question and the input data. \n",
    "    \n",
    "    The input data will be provided as a dictionary and will need converted to a pandas data frame before creating the visualization. \n",
    "    \n",
    "    The output of the plotly chart should be stored as a JSON object with pio.to_json() and then to a dictionary. \n",
    "    \n",
    "    Make sure to add: import plotly.io as pio\n",
    "    Make sure to print the fig_dict\n",
    "    Make sure to import json\n",
    "    \n",
    "    Here's an example of converting a plotly object to JSON:\n",
    "    \n",
    "    import json\n",
    "    import plotly.graph_objects as go\n",
    "    import plotly.io as pio\n",
    "\n",
    "    # Create a sample Plotly figure\n",
    "    fig = go.Figure(data=go.Bar(y=[2, 3, 1]))\n",
    "\n",
    "    # Convert the figure to JSON\n",
    "    fig_json = pio.to_json(fig)\n",
    "    fig_dict = json.loads(fig_json)\n",
    "    \n",
    "    print(fig_dict) # MAKE SURE TO DO THIS\n",
    "    \n",
    "    \n",
    "    CHART INSTRUCTIONS: {chart_instructions}\n",
    "    INPUT DATA: {data}\n",
    "    \n",
    "    Important Notes on creating the chart code:\n",
    "    - Do not use color_discrete_map. This is an invalid property.\n",
    "    - If bar plot, do not add barnorm='percent' unless user asks for it\n",
    "    - If bar plot, do not add a trendline. Plotly bar charts do not natively support the trendline.  \n",
    "    - For line plots, the line width should be updated on traces (example: # Update traces\n",
    "fig.update_traces(line=dict(color='#3381ff', width=0.65)))\n",
    "    - For Bar plots, the default line width is acceptable\n",
    "    - Super important - Make sure to print(fig_dict)\n",
    "    \"\"\",\n",
    "    input_variables=[\"chart_instructions\", \"data\"]\n",
    ")\n",
    "\n",
    "tools = [python_repl]\n",
    "\n",
    "chart_generator = prompt_chart_generator.partial(tool_names=\", \".join([tool.name for tool in tools])) | llm.bind_tools(tools)"
   ]
  },
  {
   "cell_type": "code",
   "execution_count": null,
   "id": "19ee2043-fa79-4a95-812e-6ff6cc8e0a94",
   "metadata": {},
   "outputs": [
    {
     "data": {
      "text/plain": [
       "PromptTemplate(input_variables=['chart_instructions', 'data'], partial_variables={'tool_names': 'python_repl'}, template=\"\\n    You are an expert in creating data visualizations and plots using the plotly python library. You must use plotly or plotly.express to produce plots.\\n    \\n    Your job is to produce python code to generate visualizations.\\n    \\n    Create the python code to produce the requested visualization given the plot requested from the original user question and the input data. \\n    \\n    The input data will be provided as a dictionary and will need converted to a pandas data frame before creating the visualization. \\n    \\n    The output of the plotly chart should be stored as a JSON object with pio.to_json() and then to a dictionary. \\n    \\n    Make sure to add: import plotly.io as pio\\n    Make sure to print the fig_dict\\n    Make sure to import json\\n    \\n    Here's an example of converting a plotly object to JSON:\\n    \\n    import json\\n    import plotly.graph_objects as go\\n    import plotly.io as pio\\n\\n    # Create a sample Plotly figure\\n    fig = go.Figure(data=go.Bar(y=[2, 3, 1]))\\n\\n    # Convert the figure to JSON\\n    fig_json = pio.to_json(fig)\\n    fig_dict = json.loads(fig_json)\\n    \\n    print(fig_dict) # MAKE SURE TO DO THIS\\n    \\n    \\n    CHART INSTRUCTIONS: {chart_instructions}\\n    INPUT DATA: {data}\\n    \\n    Important Notes on creating the chart code:\\n    - Do not use color_discrete_map. This is an invalid property.\\n    - If bar plot, do not add barnorm='percent' unless user asks for it\\n    - If bar plot, do not add a trendline. Plotly bar charts do not natively support the trendline.  \\n    - For line plots, the line width should be updated on traces (example: # Update traces\\nfig.update_traces(line=dict(color='#3381ff', width=0.65)))\\n    - For Bar plots, the default line width is acceptable\\n    - Super important - Make sure to print(fig_dict)\\n    \")\n",
       "| RunnableBinding(bound=ChatOpenAI(client=<openai.resources.chat.completions.Completions object at 0x7fd572a50d00>, async_client=<openai.resources.chat.completions.AsyncCompletions object at 0x7fd572a53820>, model_name='gpt-4o-mini', openai_api_key=SecretStr('**********'), openai_proxy=''), kwargs={'tools': [{'type': 'function', 'function': {'name': 'python_repl', 'description': \"python_repl(code: typing.Annotated[str, 'The python code to execute to generate your chart.']) - Use this to execute python code. If you want to see the output of a value,\\n    you should print it out with `print(...)`. This is visible to the user.\", 'parameters': {'type': 'object', 'properties': {'code': {'type': 'string'}}, 'required': ['code']}}}]})"
      ]
     },
     "execution_count": 9,
     "metadata": {},
     "output_type": "execute_result"
    }
   ],
   "source": [
    "chart_generator"
   ]
  },
  {
   "cell_type": "code",
   "execution_count": null,
   "id": "04070ce5-b856-46fa-acf0-c9b6ef596420",
   "metadata": {},
   "outputs": [],
   "source": [
    "# * LANGGRAPH\n",
    "class GraphState(TypedDict):\n",
    "    \"\"\"\n",
    "    Represents the state of our graph.\n",
    "    \"\"\"\n",
    "    user_question: str\n",
    "    formatted_user_question_sql_only: str\n",
    "    sql_query : str\n",
    "    data: dict\n",
    "    routing_preprocessor_decision: str\n",
    "    chart_generator_instructions: str\n",
    "    chart_plotly_code: str\n",
    "    chart_plotly_json: dict\n",
    "    chart_plotly_error: bool\n",
    "    num_steps : int\n",
    "    \n",
    "def preprocess_routing(state):\n",
    "    print(\"---ROUTER---\")\n",
    "    question = state.get(\"user_question\")\n",
    "    \n",
    "    num_steps = state.get(\"num_steps\")\n",
    "    \n",
    "    num_steps += 1\n",
    "    \n",
    "    # Chart Routing and SQL Prep\n",
    "    response = routing_preprocessor.invoke({\"initial_question\": question})\n",
    "    \n",
    "    formatted_user_question_sql_only = response['formatted_user_question_sql_only']\n",
    "    \n",
    "    routing_preprocessor_decision = response['routing_preprocessor_decision']\n",
    "    \n",
    "    return {\n",
    "        \"formatted_user_question_sql_only\": formatted_user_question_sql_only,\n",
    "        \"routing_preprocessor_decision\": routing_preprocessor_decision,\n",
    "        \"num_steps\": num_steps\n",
    "    }\n",
    "    \n",
    "\n",
    "\n",
    "def generate_sql(state):\n",
    "    print(\"---GENERATE SQL---\")\n",
    "    question = state.get(\"formatted_user_question_sql_only\")\n",
    "    \n",
    "    # Handle case when formatted_user_question_sql_only is None:\n",
    "    if question is None:\n",
    "        question = state.get(\"user_question\")\n",
    "    \n",
    "    num_steps = state.get(\"num_steps\")\n",
    "    \n",
    "    num_steps += 1\n",
    "    \n",
    "    # Generate SQL\n",
    "    sql_query = sql_generator.invoke({\"question\": question})\n",
    "    \n",
    "    return {\"sql_query\": sql_query, \"num_steps\": num_steps}\n",
    "\n",
    "\n",
    "def convert_dataframe(state):\n",
    "    print(\"---CONVERT DATA FRAME---\")\n",
    "\n",
    "    sql_query = state.get(\"sql_query\")\n",
    "    \n",
    "    num_steps = state.get(\"num_steps\")\n",
    "    \n",
    "    num_steps += 1\n",
    "    \n",
    "    # Remove trailing ' that gpt-3.5-turbo sometimes leaves\n",
    "    sql_query = sql_query.rstrip(\"'\")\n",
    "    \n",
    "    df = pd.read_sql(sql_query, conn)\n",
    "    \n",
    "    return {\"data\": dict(df), \"num_steps\": num_steps}\n",
    "\n",
    "\n",
    "def decide_chart_or_table(state):\n",
    "    print(\"---DECIDE CHART OR TABLE---\")\n",
    "    return \"chart\" if state.get('routing_preprocessor_decision') == \"chart\" else \"table\"\n",
    "\n",
    "def instruct_chart_generator(state):\n",
    "    print(\"---INSTRUCT CHART GENERATOR---\")\n",
    "    \n",
    "    question = state.get(\"user_question\")\n",
    "    \n",
    "    data = state.get(\"data\")\n",
    "    \n",
    "    num_steps = state.get(\"num_steps\")\n",
    "    \n",
    "    num_steps += 1\n",
    "    \n",
    "    chart_generator_instructions = chart_instructor.invoke({\"question\": question, \"data\": data})\n",
    "    \n",
    "    return {\"chart_generator_instructions\": chart_generator_instructions, \"num_steps\": num_steps}\n",
    "\n",
    "\n",
    "    \n",
    "\n",
    "def generate_chart(state):\n",
    "    print(\"---GENERATE CHART---\")\n",
    "    \n",
    "    chart_instructions = state.get(\"chart_generator_instructions\")\n",
    "    \n",
    "    data = state.get(\"data\")\n",
    "    \n",
    "    num_steps = state.get(\"num_steps\")\n",
    "    \n",
    "    num_steps += 1\n",
    "    \n",
    "    # NEW: Charting Logic\n",
    "    \n",
    "    response = chart_generator.invoke({\"chart_instructions\": chart_instructions, \"data\": data})\n",
    "    \n",
    "    # Fix - if invalid tool calls\n",
    "    try:\n",
    "        code = dict(response)['tool_calls'][0]['args']['code']\n",
    "    except: \n",
    "        code = dict(response)['invalid_tool_calls'][0]['args']\n",
    "    \n",
    "    result = repl.run(code)\n",
    "    \n",
    "    # Add plot to global environment\n",
    "    globals()[\"chart_plotly_json\"] = result\n",
    "    \n",
    "    chart_plotly_error = False\n",
    "    if \"error\" in result[:40].lower():\n",
    "        chart_plotly_error = True\n",
    "    else:\n",
    "        try:\n",
    "            result_dict = ast.literal_eval(result)\n",
    "        \n",
    "            fig = pio.from_json(json.dumps(result_dict))\n",
    "\n",
    "            fig.show()\n",
    "        except:\n",
    "            chart_plotly_error = True\n",
    "        \n",
    "    return {\n",
    "        \"chart_plotly_code\": code, \n",
    "        \"chart_plotly_json\": result, \n",
    "        \"chart_plotly_error\": chart_plotly_error,\n",
    "        \"num_steps\": num_steps,\n",
    "    }\n",
    "    \n",
    "    \n",
    "def state_printer(state):\n",
    "    \"\"\"print the state\"\"\"\n",
    "    print(\"---STATE PRINTER---\")\n",
    "    print(f\"User Question: {state['user_question']}\")\n",
    "    print(f\"Formatted Question (SQL): {state['formatted_user_question_sql_only']}\")\n",
    "    print(f\"SQL Query: \\n{state['sql_query']}\\n\")\n",
    "    print(f\"Data: \\n{pd.DataFrame(state['data'])}\\n\")\n",
    "    print(f\"Chart or Table: {state['routing_preprocessor_decision']}\")\n",
    "    \n",
    "    if state['routing_preprocessor_decision'] == \"chart\":\n",
    "        print(f\"Chart Code: \\n{pprint(state['chart_plotly_code'])}\")\n",
    "        print(f\"Chart Error: {state['chart_plotly_error']}\")\n",
    "    \n",
    "    print(f\"Num Steps: {state['num_steps']}\")"
   ]
  },
  {
   "cell_type": "code",
   "execution_count": null,
   "id": "1c4deb8d-e0c3-4406-b357-68353a0a8b2c",
   "metadata": {},
   "outputs": [
    {
     "data": {
      "image/jpeg": "[encoded data removed]",
      "text/plain": [
       "<IPython.core.display.Image object>"
      ]
     },
     "execution_count": 11,
     "metadata": {},
     "output_type": "execute_result"
    }
   ],
   "source": [
    "# * WORKFLOW DAG\n",
    "\n",
    "workflow = StateGraph(GraphState)\n",
    "\n",
    "workflow.add_node(\"preprocess_routing\", preprocess_routing)\n",
    "workflow.add_node(\"generate_sql\", generate_sql)\n",
    "workflow.add_node(\"convert_dataframe\", convert_dataframe)\n",
    "workflow.add_node(\"instruct_chart_generator\", instruct_chart_generator)\n",
    "workflow.add_node(\"generate_chart\", generate_chart)\n",
    "workflow.add_node(\"state_printer\", state_printer)\n",
    "\n",
    "workflow.set_entry_point(\"preprocess_routing\")\n",
    "workflow.add_edge(\"preprocess_routing\", \"generate_sql\")\n",
    "workflow.add_edge(\"generate_sql\", \"convert_dataframe\")\n",
    "\n",
    "workflow.add_conditional_edges(\n",
    "    \"convert_dataframe\", \n",
    "    decide_chart_or_table,\n",
    "    {\n",
    "        # Result : Step Name To Go To\n",
    "        \"chart\":\"instruct_chart_generator\", # Path Chart\n",
    "        \"table\":\"state_printer\" # Path State Printer\n",
    "    }\n",
    ")\n",
    "\n",
    "workflow.add_edge(\"instruct_chart_generator\", \"generate_chart\")\n",
    "workflow.add_edge(\"generate_chart\", \"state_printer\")\n",
    "workflow.add_edge(\"state_printer\", END)\n",
    "\n",
    "app = workflow.compile()\n",
    "\n",
    "Image(app.get_graph().draw_mermaid_png())"
   ]
  },
  {
   "cell_type": "code",
   "execution_count": null,
   "id": "61f85e44-c5a8-4a92-9146-f06708d8c8fe",
   "metadata": {},
   "outputs": [
    {
     "name": "stdout",
     "output_type": "stream",
     "text": [
      "---ROUTER---\n",
      "{'preprocess_routing': {'formatted_user_question_sql_only': 'Which 10 customers have the highest p1 probability of purchase who have NOT purchased \"Learning Labs Pro - Paid Course\"?', 'routing_preprocessor_decision': 'table', 'num_steps': 1}}\n",
      "---GENERATE SQL---\n",
      "{'generate_sql': {'sql_query': 'SELECT \"user_full_name\", \"user_email\", \"p1\" \\nFROM \"leads_scored\" \\nWHERE \"mailchimp_id\" NOT IN (\\n    SELECT \"user_email\" \\n    FROM \"transactions\" \\n    JOIN \"products\" ON \"transactions\".\"product_id\" = \"products\".\"product_id\" \\n    WHERE \"products\".\"description\" = \\'Learning Labs Pro - Paid Course\\'\\n) \\nORDER BY \"p1\" DESC \\nLIMIT 10;', 'num_steps': 2}}\n",
      "---CONVERT DATA FRAME---\n",
      "---DECIDE CHART OR TABLE---\n",
      "{'convert_dataframe': {'data': {'user_full_name': 0            Kecia Johnson\n",
      "1          Estel Abernathy\n",
      "2      Peter Morar-Lebsack\n",
      "3    Dr. Alana Hermann DDS\n",
      "4          Bedford Farrell\n",
      "5    Mr. Ephraim Ankunding\n",
      "6           Doloris Larkin\n",
      "7            Chase Pfeffer\n",
      "8      Mr. Volney White Sr\n",
      "9            Dr. Savon Von\n",
      "Name: user_full_name, dtype: object, 'user_email': 0           kecia.johnson@gmail.com\n",
      "1         estel.abernathy@gmail.com\n",
      "2      peter.morarlebsack@gmail.com\n",
      "3    dr.alana.hermann.dds@gmail.com\n",
      "4         bedford.farrell@yahoo.com\n",
      "5    mr.ephraim.ankunding@gmail.com\n",
      "6          doloris.larkin@gmail.com\n",
      "7           chase.pfeffer@gmail.com\n",
      "8      mr.volney.white.sr@gmail.com\n",
      "9          dr.savon.von@outlook.com\n",
      "Name: user_email, dtype: object, 'p1': 0    0.932674\n",
      "1    0.932674\n",
      "2    0.923995\n",
      "3    0.913425\n",
      "4    0.875842\n",
      "5    0.868145\n",
      "6    0.867401\n",
      "7    0.867401\n",
      "8    0.867401\n",
      "9    0.853498\n",
      "Name: p1, dtype: float64}, 'num_steps': 3}}\n",
      "---STATE PRINTER---\n",
      "User Question: \n",
      "Which 10 customers have the highest p1 probability of purchase who have NOT purchased \"Learning Labs Pro - Paid Course\"? \n",
      "\n",
      "Formatted Question (SQL): Which 10 customers have the highest p1 probability of purchase who have NOT purchased \"Learning Labs Pro - Paid Course\"?\n",
      "SQL Query: \n",
      "SELECT \"user_full_name\", \"user_email\", \"p1\" \n",
      "FROM \"leads_scored\" \n",
      "WHERE \"mailchimp_id\" NOT IN (\n",
      "    SELECT \"user_email\" \n",
      "    FROM \"transactions\" \n",
      "    JOIN \"products\" ON \"transactions\".\"product_id\" = \"products\".\"product_id\" \n",
      "    WHERE \"products\".\"description\" = 'Learning Labs Pro - Paid Course'\n",
      ") \n",
      "ORDER BY \"p1\" DESC \n",
      "LIMIT 10;\n",
      "\n",
      "Data: \n",
      "          user_full_name                      user_email        p1\n",
      "0          Kecia Johnson         kecia.johnson@gmail.com  0.932674\n",
      "1        Estel Abernathy       estel.abernathy@gmail.com  0.932674\n",
      "2    Peter Morar-Lebsack    peter.morarlebsack@gmail.com  0.923995\n",
      "3  Dr. Alana Hermann DDS  dr.alana.hermann.dds@gmail.com  0.913425\n",
      "4        Bedford Farrell       bedford.farrell@yahoo.com  0.875842\n",
      "5  Mr. Ephraim Ankunding  mr.ephraim.ankunding@gmail.com  0.868145\n",
      "6         Doloris Larkin        doloris.larkin@gmail.com  0.867401\n",
      "7          Chase Pfeffer         chase.pfeffer@gmail.com  0.867401\n",
      "8    Mr. Volney White Sr    mr.volney.white.sr@gmail.com  0.867401\n",
      "9          Dr. Savon Von        dr.savon.von@outlook.com  0.853498\n",
      "\n",
      "Chart or Table: table\n",
      "Num Steps: 3\n"
     ]
    }
   ],
   "source": [
    "QUESTION = \"\"\"\n",
    "Which 10 customers have the highest p1 probability of purchase who have NOT purchased \"Learning Labs Pro - Paid Course\"? \n",
    "\"\"\"\n",
    "inputs = {\"user_question\": QUESTION, \"num_steps\": 0}\n",
    "for s in app.stream(inputs):\n",
    "    print(s)"
   ]
  },
  {
   "cell_type": "code",
   "execution_count": null,
   "id": "5d699507-fe2d-4d91-ac89-1f605faada76",
   "metadata": {},
   "outputs": [
    {
     "name": "stdout",
     "output_type": "stream",
     "text": [
      "---ROUTER---\n",
      "{'preprocess_routing': {'formatted_user_question_sql_only': 'What are the total sales by month-year? Use suggested price as a proxy for revenue for each transaction and a quantity of 1.', 'routing_preprocessor_decision': 'chart', 'num_steps': 1}}\n",
      "---GENERATE SQL---\n",
      "{'generate_sql': {'sql_query': 'SELECT strftime(\\'%Y-%m\\', \"purchased_at\") AS \"month_year\", \\n       SUM(\"suggested_price\") AS \"total_sales\"\\nFROM transactions\\nJOIN products ON transactions.\"product_id\" = products.\"product_id\"\\nGROUP BY \"month_year\"\\nORDER BY \"month_year\";', 'num_steps': 2}}\n",
      "---CONVERT DATA FRAME---\n",
      "---DECIDE CHART OR TABLE---\n",
      "{'convert_dataframe': {'data': {'month_year': 0     2018-04\n",
      "1     2018-05\n",
      "2     2018-06\n",
      "3     2018-07\n",
      "4     2018-08\n",
      "5     2018-09\n",
      "6     2018-10\n",
      "7     2018-11\n",
      "8     2018-12\n",
      "9     2019-01\n",
      "10    2019-02\n",
      "11    2019-03\n",
      "12    2019-04\n",
      "13    2019-05\n",
      "14    2019-06\n",
      "15    2019-07\n",
      "16    2019-08\n",
      "17    2019-09\n",
      "18    2019-10\n",
      "19    2019-11\n",
      "20    2019-12\n",
      "21    2020-01\n",
      "22    2020-02\n",
      "23    2020-03\n",
      "24    2020-04\n",
      "25    2020-05\n",
      "26    2020-06\n",
      "27    2020-07\n",
      "28    2020-08\n",
      "29    2020-09\n",
      "30    2020-10\n",
      "31    2020-11\n",
      "32    2020-12\n",
      "Name: month_year, dtype: object, 'total_sales': 0       9800.000000\n",
      "1      21950.000000\n",
      "2       5600.000000\n",
      "3       7500.000000\n",
      "4       7250.000000\n",
      "5       9350.000000\n",
      "6      13550.000000\n",
      "7      18750.000000\n",
      "8      11300.000000\n",
      "9      29883.333333\n",
      "10     11183.333333\n",
      "11     14216.666667\n",
      "12     21299.666667\n",
      "13     35523.000000\n",
      "14     59795.000000\n",
      "15     26445.500000\n",
      "16     28015.666667\n",
      "17     29490.000000\n",
      "18     57946.333333\n",
      "19     80941.333333\n",
      "20     51038.500000\n",
      "21     44712.666667\n",
      "22     42045.333333\n",
      "23     41731.333333\n",
      "24     65435.166667\n",
      "25    105012.833333\n",
      "26     50540.166667\n",
      "27     60043.166667\n",
      "28     48247.666667\n",
      "29    154705.166667\n",
      "30     56925.166667\n",
      "31     86511.277778\n",
      "32     93650.611111\n",
      "Name: total_sales, dtype: float64}, 'num_steps': 3}}\n",
      "---INSTRUCT CHART GENERATOR---\n",
      "{'instruct_chart_generator': {'chart_generator_instructions': 'CHART GENERATOR INSTRUCTIONS: \\n\\n1. Create a line plot to represent the total sales over time.\\n2. Set the title of the chart to \"Total Sales by Month-Year\".\\n3. Label the x-axis as \"Month-Year\".\\n4. Label the y-axis as \"Total Sales (Suggested Price Proxy)\".\\n5. Use the \"plotly_white\" template for the chart.\\n6. Set the background color to white.\\n7. Use the color \\'#3381ff\\' for the line.\\n8. Set the base font size for x and y axes tickfont, annotations, and hovertips to 8.8.\\n9. Set the title font size to 13.2.\\n10. Set the line size to 0.65 for the line representing total sales.\\n11. Include smoothers or trendlines in the line plot.\\n12. Ensure hover tip size is set to 8.8. \\n\\nPlease use the provided data for \\'month_year\\' as the x-axis values and \\'total_sales\\' as the y-axis values.', 'num_steps': 4}}\n",
      "---GENERATE CHART---\n"
     ]
    },
    {
     "name": "stderr",
     "output_type": "stream",
     "text": [
      "Python REPL can execute arbitrary code. Use with caution.\n"
     ]
    },
    {
     "data": {
      "application/vnd.plotly.v1+json": {
       "config": {
        "plotlyServerURL": "https://plot.ly"
       },
       "data": [
        {
         "line": {
          "color": "#3381ff",
          "width": 0.65
         },
         "mode": "lines+markers",
         "name": "Total Sales",
         "type": "scatter",
         "x": [
          "2018-04",
          "2018-05",
          "2018-06",
          "2018-07",
          "2018-08",
          "2018-09",
          "2018-10",
          "2018-11",
          "2018-12",
          "2019-01",
          "2019-02",
          "2019-03",
          "2019-04",
          "2019-05",
          "2019-06",
          "2019-07",
          "2019-08",
          "2019-09",
          "2019-10",
          "2019-11",
          "2019-12",
          "2020-01",
          "2020-02",
          "2020-03",
          "2020-04",
          "2020-05",
          "2020-06",
          "2020-07",
          "2020-08",
          "2020-09",
          "2020-10",
          "2020-11",
          "2020-12"
         ],
         "y": [
          9800,
          21950,
          5600,
          7500,
          7250,
          9350,
          13550,
          18750,
          11300,
          29883.333333,
          11183.333333,
          14216.666667,
          21299.666667,
          35523,
          59795,
          26445.5,
          28015.666667,
          29490,
          57946.333333,
          80941.333333,
          51038.5,
          44712.666667,
          42045.333333,
          41731.333333,
          65435.166667,
          105012.833333,
          50540.166667,
          60043.166667,
          48247.666667,
          154705.166667,
          56925.166667,
          86511.277778,
          93650.611111
         ]
        }
       ],
       "layout": {
        "hoverlabel": {
         "font": {
          "size": 8.8
         }
        },
        "plot_bgcolor": "white",
        "template": {
         "data": {
          "bar": [
           {
            "error_x": {
             "color": "#2a3f5f"
            },
            "error_y": {
             "color": "#2a3f5f"
            },
            "marker": {
             "line": {
              "color": "white",
              "width": 0.5
             },
             "pattern": {
              "fillmode": "overlay",
              "size": 10,
              "solidity": 0.2
             }
            },
            "type": "bar"
           }
          ],
          "barpolar": [
           {
            "marker": {
             "line": {
              "color": "white",
              "width": 0.5
             },
             "pattern": {
              "fillmode": "overlay",
              "size": 10,
              "solidity": 0.2
             }
            },
            "type": "barpolar"
           }
          ],
          "carpet": [
           {
            "aaxis": {
             "endlinecolor": "#2a3f5f",
             "gridcolor": "#C8D4E3",
             "linecolor": "#C8D4E3",
             "minorgridcolor": "#C8D4E3",
             "startlinecolor": "#2a3f5f"
            },
            "baxis": {
             "endlinecolor": "#2a3f5f",
             "gridcolor": "#C8D4E3",
             "linecolor": "#C8D4E3",
             "minorgridcolor": "#C8D4E3",
             "startlinecolor": "#2a3f5f"
            },
            "type": "carpet"
           }
          ],
          "choropleth": [
           {
            "colorbar": {
             "outlinewidth": 0,
             "ticks": ""
            },
            "type": "choropleth"
           }
          ],
          "contour": [
           {
            "colorbar": {
             "outlinewidth": 0,
             "ticks": ""
            },
            "colorscale": [
             [
              0,
              "#0d0887"
             ],
             [
              0.1111111111111111,
              "#46039f"
             ],
             [
              0.2222222222222222,
              "#7201a8"
             ],
             [
              0.3333333333333333,
              "#9c179e"
             ],
             [
              0.4444444444444444,
              "#bd3786"
             ],
             [
              0.5555555555555556,
              "#d8576b"
             ],
             [
              0.6666666666666666,
              "#ed7953"
             ],
             [
              0.7777777777777778,
              "#fb9f3a"
             ],
             [
              0.8888888888888888,
              "#fdca26"
             ],
             [
              1,
              "#f0f921"
             ]
            ],
            "type": "contour"
           }
          ],
          "contourcarpet": [
           {
            "colorbar": {
             "outlinewidth": 0,
             "ticks": ""
            },
            "type": "contourcarpet"
           }
          ],
          "heatmap": [
           {
            "colorbar": {
             "outlinewidth": 0,
             "ticks": ""
            },
            "colorscale": [
             [
              0,
              "#0d0887"
             ],
             [
              0.1111111111111111,
              "#46039f"
             ],
             [
              0.2222222222222222,
              "#7201a8"
             ],
             [
              0.3333333333333333,
              "#9c179e"
             ],
             [
              0.4444444444444444,
              "#bd3786"
             ],
             [
              0.5555555555555556,
              "#d8576b"
             ],
             [
              0.6666666666666666,
              "#ed7953"
             ],
             [
              0.7777777777777778,
              "#fb9f3a"
             ],
             [
              0.8888888888888888,
              "#fdca26"
             ],
             [
              1,
              "#f0f921"
             ]
            ],
            "type": "heatmap"
           }
          ],
          "heatmapgl": [
           {
            "colorbar": {
             "outlinewidth": 0,
             "ticks": ""
            },
            "colorscale": [
             [
              0,
              "#0d0887"
             ],
             [
              0.1111111111111111,
              "#46039f"
             ],
             [
              0.2222222222222222,
              "#7201a8"
             ],
             [
              0.3333333333333333,
              "#9c179e"
             ],
             [
              0.4444444444444444,
              "#bd3786"
             ],
             [
              0.5555555555555556,
              "#d8576b"
             ],
             [
              0.6666666666666666,
              "#ed7953"
             ],
             [
              0.7777777777777778,
              "#fb9f3a"
             ],
             [
              0.8888888888888888,
              "#fdca26"
             ],
             [
              1,
              "#f0f921"
             ]
            ],
            "type": "heatmapgl"
           }
          ],
          "histogram": [
           {
            "marker": {
             "pattern": {
              "fillmode": "overlay",
              "size": 10,
              "solidity": 0.2
             }
            },
            "type": "histogram"
           }
          ],
          "histogram2d": [
           {
            "colorbar": {
             "outlinewidth": 0,
             "ticks": ""
            },
            "colorscale": [
             [
              0,
              "#0d0887"
             ],
             [
              0.1111111111111111,
              "#46039f"
             ],
             [
              0.2222222222222222,
              "#7201a8"
             ],
             [
              0.3333333333333333,
              "#9c179e"
             ],
             [
              0.4444444444444444,
              "#bd3786"
             ],
             [
              0.5555555555555556,
              "#d8576b"
             ],
             [
              0.6666666666666666,
              "#ed7953"
             ],
             [
              0.7777777777777778,
              "#fb9f3a"
             ],
             [
              0.8888888888888888,
              "#fdca26"
             ],
             [
              1,
              "#f0f921"
             ]
            ],
            "type": "histogram2d"
           }
          ],
          "histogram2dcontour": [
           {
            "colorbar": {
             "outlinewidth": 0,
             "ticks": ""
            },
            "colorscale": [
             [
              0,
              "#0d0887"
             ],
             [
              0.1111111111111111,
              "#46039f"
             ],
             [
              0.2222222222222222,
              "#7201a8"
             ],
             [
              0.3333333333333333,
              "#9c179e"
             ],
             [
              0.4444444444444444,
              "#bd3786"
             ],
             [
              0.5555555555555556,
              "#d8576b"
             ],
             [
              0.6666666666666666,
              "#ed7953"
             ],
             [
              0.7777777777777778,
              "#fb9f3a"
             ],
             [
              0.8888888888888888,
              "#fdca26"
             ],
             [
              1,
              "#f0f921"
             ]
            ],
            "type": "histogram2dcontour"
           }
          ],
          "mesh3d": [
           {
            "colorbar": {
             "outlinewidth": 0,
             "ticks": ""
            },
            "type": "mesh3d"
           }
          ],
          "parcoords": [
           {
            "line": {
             "colorbar": {
              "outlinewidth": 0,
              "ticks": ""
             }
            },
            "type": "parcoords"
           }
          ],
          "pie": [
           {
            "automargin": true,
            "type": "pie"
           }
          ],
          "scatter": [
           {
            "fillpattern": {
             "fillmode": "overlay",
             "size": 10,
             "solidity": 0.2
            },
            "type": "scatter"
           }
          ],
          "scatter3d": [
           {
            "line": {
             "colorbar": {
              "outlinewidth": 0,
              "ticks": ""
             }
            },
            "marker": {
             "colorbar": {
              "outlinewidth": 0,
              "ticks": ""
             }
            },
            "type": "scatter3d"
           }
          ],
          "scattercarpet": [
           {
            "marker": {
             "colorbar": {
              "outlinewidth": 0,
              "ticks": ""
             }
            },
            "type": "scattercarpet"
           }
          ],
          "scattergeo": [
           {
            "marker": {
             "colorbar": {
              "outlinewidth": 0,
              "ticks": ""
             }
            },
            "type": "scattergeo"
           }
          ],
          "scattergl": [
           {
            "marker": {
             "colorbar": {
              "outlinewidth": 0,
              "ticks": ""
             }
            },
            "type": "scattergl"
           }
          ],
          "scattermapbox": [
           {
            "marker": {
             "colorbar": {
              "outlinewidth": 0,
              "ticks": ""
             }
            },
            "type": "scattermapbox"
           }
          ],
          "scatterpolar": [
           {
            "marker": {
             "colorbar": {
              "outlinewidth": 0,
              "ticks": ""
             }
            },
            "type": "scatterpolar"
           }
          ],
          "scatterpolargl": [
           {
            "marker": {
             "colorbar": {
              "outlinewidth": 0,
              "ticks": ""
             }
            },
            "type": "scatterpolargl"
           }
          ],
          "scatterternary": [
           {
            "marker": {
             "colorbar": {
              "outlinewidth": 0,
              "ticks": ""
             }
            },
            "type": "scatterternary"
           }
          ],
          "surface": [
           {
            "colorbar": {
             "outlinewidth": 0,
             "ticks": ""
            },
            "colorscale": [
             [
              0,
              "#0d0887"
             ],
             [
              0.1111111111111111,
              "#46039f"
             ],
             [
              0.2222222222222222,
              "#7201a8"
             ],
             [
              0.3333333333333333,
              "#9c179e"
             ],
             [
              0.4444444444444444,
              "#bd3786"
             ],
             [
              0.5555555555555556,
              "#d8576b"
             ],
             [
              0.6666666666666666,
              "#ed7953"
             ],
             [
              0.7777777777777778,
              "#fb9f3a"
             ],
             [
              0.8888888888888888,
              "#fdca26"
             ],
             [
              1,
              "#f0f921"
             ]
            ],
            "type": "surface"
           }
          ],
          "table": [
           {
            "cells": {
             "fill": {
              "color": "#EBF0F8"
             },
             "line": {
              "color": "white"
             }
            },
            "header": {
             "fill": {
              "color": "#C8D4E3"
             },
             "line": {
              "color": "white"
             }
            },
            "type": "table"
           }
          ]
         },
         "layout": {
          "annotationdefaults": {
           "arrowcolor": "#2a3f5f",
           "arrowhead": 0,
           "arrowwidth": 1
          },
          "autotypenumbers": "strict",
          "coloraxis": {
           "colorbar": {
            "outlinewidth": 0,
            "ticks": ""
           }
          },
          "colorscale": {
           "diverging": [
            [
             0,
             "#8e0152"
            ],
            [
             0.1,
             "#c51b7d"
            ],
            [
             0.2,
             "#de77ae"
            ],
            [
             0.3,
             "#f1b6da"
            ],
            [
             0.4,
             "#fde0ef"
            ],
            [
             0.5,
             "#f7f7f7"
            ],
            [
             0.6,
             "#e6f5d0"
            ],
            [
             0.7,
             "#b8e186"
            ],
            [
             0.8,
             "#7fbc41"
            ],
            [
             0.9,
             "#4d9221"
            ],
            [
             1,
             "#276419"
            ]
           ],
           "sequential": [
            [
             0,
             "#0d0887"
            ],
            [
             0.1111111111111111,
             "#46039f"
            ],
            [
             0.2222222222222222,
             "#7201a8"
            ],
            [
             0.3333333333333333,
             "#9c179e"
            ],
            [
             0.4444444444444444,
             "#bd3786"
            ],
            [
             0.5555555555555556,
             "#d8576b"
            ],
            [
             0.6666666666666666,
             "#ed7953"
            ],
            [
             0.7777777777777778,
             "#fb9f3a"
            ],
            [
             0.8888888888888888,
             "#fdca26"
            ],
            [
             1,
             "#f0f921"
            ]
           ],
           "sequentialminus": [
            [
             0,
             "#0d0887"
            ],
            [
             0.1111111111111111,
             "#46039f"
            ],
            [
             0.2222222222222222,
             "#7201a8"
            ],
            [
             0.3333333333333333,
             "#9c179e"
            ],
            [
             0.4444444444444444,
             "#bd3786"
            ],
            [
             0.5555555555555556,
             "#d8576b"
            ],
            [
             0.6666666666666666,
             "#ed7953"
            ],
            [
             0.7777777777777778,
             "#fb9f3a"
            ],
            [
             0.8888888888888888,
             "#fdca26"
            ],
            [
             1,
             "#f0f921"
            ]
           ]
          },
          "colorway": [
           "#636efa",
           "#EF553B",
           "#00cc96",
           "#ab63fa",
           "#FFA15A",
           "#19d3f3",
           "#FF6692",
           "#B6E880",
           "#FF97FF",
           "#FECB52"
          ],
          "font": {
           "color": "#2a3f5f"
          },
          "geo": {
           "bgcolor": "white",
           "lakecolor": "white",
           "landcolor": "white",
           "showlakes": true,
           "showland": true,
           "subunitcolor": "#C8D4E3"
          },
          "hoverlabel": {
           "align": "left"
          },
          "hovermode": "closest",
          "mapbox": {
           "style": "light"
          },
          "paper_bgcolor": "white",
          "plot_bgcolor": "white",
          "polar": {
           "angularaxis": {
            "gridcolor": "#EBF0F8",
            "linecolor": "#EBF0F8",
            "ticks": ""
           },
           "bgcolor": "white",
           "radialaxis": {
            "gridcolor": "#EBF0F8",
            "linecolor": "#EBF0F8",
            "ticks": ""
           }
          },
          "scene": {
           "xaxis": {
            "backgroundcolor": "white",
            "gridcolor": "#DFE8F3",
            "gridwidth": 2,
            "linecolor": "#EBF0F8",
            "showbackground": true,
            "ticks": "",
            "zerolinecolor": "#EBF0F8"
           },
           "yaxis": {
            "backgroundcolor": "white",
            "gridcolor": "#DFE8F3",
            "gridwidth": 2,
            "linecolor": "#EBF0F8",
            "showbackground": true,
            "ticks": "",
            "zerolinecolor": "#EBF0F8"
           },
           "zaxis": {
            "backgroundcolor": "white",
            "gridcolor": "#DFE8F3",
            "gridwidth": 2,
            "linecolor": "#EBF0F8",
            "showbackground": true,
            "ticks": "",
            "zerolinecolor": "#EBF0F8"
           }
          },
          "shapedefaults": {
           "line": {
            "color": "#2a3f5f"
           }
          },
          "ternary": {
           "aaxis": {
            "gridcolor": "#DFE8F3",
            "linecolor": "#A2B1C6",
            "ticks": ""
           },
           "baxis": {
            "gridcolor": "#DFE8F3",
            "linecolor": "#A2B1C6",
            "ticks": ""
           },
           "bgcolor": "white",
           "caxis": {
            "gridcolor": "#DFE8F3",
            "linecolor": "#A2B1C6",
            "ticks": ""
           }
          },
          "title": {
           "x": 0.05
          },
          "xaxis": {
           "automargin": true,
           "gridcolor": "#EBF0F8",
           "linecolor": "#EBF0F8",
           "ticks": "",
           "title": {
            "standoff": 15
           },
           "zerolinecolor": "#EBF0F8",
           "zerolinewidth": 2
          },
          "yaxis": {
           "automargin": true,
           "gridcolor": "#EBF0F8",
           "linecolor": "#EBF0F8",
           "ticks": "",
           "title": {
            "standoff": 15
           },
           "zerolinecolor": "#EBF0F8",
           "zerolinewidth": 2
          }
         }
        },
        "title": {
         "font": {
          "size": 13.2
         },
         "text": "Total Sales by Month-Year"
        },
        "xaxis": {
         "tickfont": {
          "size": 8.8
         },
         "title": {
          "text": "Month-Year"
         }
        },
        "yaxis": {
         "tickfont": {
          "size": 8.8
         },
         "title": {
          "text": "Total Sales (Suggested Price Proxy)"
         }
        }
       }
      }
     },
     "metadata": {},
     "output_type": "display_data"
    },
    {
     "name": "stdout",
     "output_type": "stream",
     "text": [
      "{'generate_chart': {'chart_plotly_code': \"import pandas as pd\\nimport plotly.graph_objects as go\\nimport plotly.io as pio\\nimport json\\n\\n# Provided input data\\ninput_data = {\\n    'month_year': [\\n        '2018-04', '2018-05', '2018-06', '2018-07', '2018-08',\\n        '2018-09', '2018-10', '2018-11', '2018-12', '2019-01',\\n        '2019-02', '2019-03', '2019-04', '2019-05', '2019-06',\\n        '2019-07', '2019-08', '2019-09', '2019-10', '2019-11',\\n        '2019-12', '2020-01', '2020-02', '2020-03', '2020-04',\\n        '2020-05', '2020-06', '2020-07', '2020-08', '2020-09',\\n        '2020-10', '2020-11', '2020-12'\\n    ],\\n    'total_sales': [\\n        9800.000000, 21950.000000, 5600.000000, 7500.000000, 7250.000000,\\n        9350.000000, 13550.000000, 18750.000000, 11300.000000, 29883.333333,\\n        11183.333333, 14216.666667, 21299.666667, 35523.000000, 59795.000000,\\n        26445.500000, 28015.666667, 29490.000000, 57946.333333, 80941.333333,\\n        51038.500000, 44712.666667, 42045.333333, 41731.333333, 65435.166667,\\n        105012.833333, 50540.166667, 60043.166667, 48247.666667, 154705.166667,\\n        56925.166667, 86511.277778, 93650.611111\\n    ]\\n}\\n\\n# Convert input data to DataFrame\\ndf = pd.DataFrame(input_data)\\n\\n# Create a line plot for total sales over time\\nfig = go.Figure()\\nfig.add_trace(go.Scatter(x=df['month_year'], y=df['total_sales'], mode='lines+markers', name='Total Sales'))\\n\\n# Update layout of the figure\\nfig.update_layout(\\n    title='Total Sales by Month-Year',\\n    xaxis_title='Month-Year',\\n    yaxis_title='Total Sales (Suggested Price Proxy)',\\n    template='plotly_white',\\n    plot_bgcolor='white',\\n    xaxis_tickfont=dict(size=8.8),\\n    yaxis_tickfont=dict(size=8.8),\\n    title_font=dict(size=13.2),\\n    hoverlabel=dict(font=dict(size=8.8))\\n)\\n\\n# Update traces to set line color and width\\nfig.update_traces(line=dict(color='#3381ff', width=0.65))\\n\\n# Convert the figure to JSON\\nfig_json = pio.to_json(fig)\\nfig_dict = json.loads(fig_json)\\n\\nprint(fig_dict)\", 'chart_plotly_json': \"{'data': [{'mode': 'lines+markers', 'name': 'Total Sales', 'x': ['2018-04', '2018-05', '2018-06', '2018-07', '2018-08', '2018-09', '2018-10', '2018-11', '2018-12', '2019-01', '2019-02', '2019-03', '2019-04', '2019-05', '2019-06', '2019-07', '2019-08', '2019-09', '2019-10', '2019-11', '2019-12', '2020-01', '2020-02', '2020-03', '2020-04', '2020-05', '2020-06', '2020-07', '2020-08', '2020-09', '2020-10', '2020-11', '2020-12'], 'y': [9800.0, 21950.0, 5600.0, 7500.0, 7250.0, 9350.0, 13550.0, 18750.0, 11300.0, 29883.333333, 11183.333333, 14216.666667, 21299.666667, 35523.0, 59795.0, 26445.5, 28015.666667, 29490.0, 57946.333333, 80941.333333, 51038.5, 44712.666667, 42045.333333, 41731.333333, 65435.166667, 105012.833333, 50540.166667, 60043.166667, 48247.666667, 154705.166667, 56925.166667, 86511.277778, 93650.611111], 'type': 'scatter', 'line': {'color': '#3381ff', 'width': 0.65}}], 'layout': {'template': {'data': {'barpolar': [{'marker': {'line': {'color': 'white', 'width': 0.5}, 'pattern': {'fillmode': 'overlay', 'size': 10, 'solidity': 0.2}}, 'type': 'barpolar'}], 'bar': [{'error_x': {'color': '#2a3f5f'}, 'error_y': {'color': '#2a3f5f'}, 'marker': {'line': {'color': 'white', 'width': 0.5}, 'pattern': {'fillmode': 'overlay', 'size': 10, 'solidity': 0.2}}, 'type': 'bar'}], 'carpet': [{'aaxis': {'endlinecolor': '#2a3f5f', 'gridcolor': '#C8D4E3', 'linecolor': '#C8D4E3', 'minorgridcolor': '#C8D4E3', 'startlinecolor': '#2a3f5f'}, 'baxis': {'endlinecolor': '#2a3f5f', 'gridcolor': '#C8D4E3', 'linecolor': '#C8D4E3', 'minorgridcolor': '#C8D4E3', 'startlinecolor': '#2a3f5f'}, 'type': 'carpet'}], 'choropleth': [{'colorbar': {'outlinewidth': 0, 'ticks': ''}, 'type': 'choropleth'}], 'contourcarpet': [{'colorbar': {'outlinewidth': 0, 'ticks': ''}, 'type': 'contourcarpet'}], 'contour': [{'colorbar': {'outlinewidth': 0, 'ticks': ''}, 'colorscale': [[0.0, '#0d0887'], [0.1111111111111111, '#46039f'], [0.2222222222222222, '#7201a8'], [0.3333333333333333, '#9c179e'], [0.4444444444444444, '#bd3786'], [0.5555555555555556, '#d8576b'], [0.6666666666666666, '#ed7953'], [0.7777777777777778, '#fb9f3a'], [0.8888888888888888, '#fdca26'], [1.0, '#f0f921']], 'type': 'contour'}], 'heatmapgl': [{'colorbar': {'outlinewidth': 0, 'ticks': ''}, 'colorscale': [[0.0, '#0d0887'], [0.1111111111111111, '#46039f'], [0.2222222222222222, '#7201a8'], [0.3333333333333333, '#9c179e'], [0.4444444444444444, '#bd3786'], [0.5555555555555556, '#d8576b'], [0.6666666666666666, '#ed7953'], [0.7777777777777778, '#fb9f3a'], [0.8888888888888888, '#fdca26'], [1.0, '#f0f921']], 'type': 'heatmapgl'}], 'heatmap': [{'colorbar': {'outlinewidth': 0, 'ticks': ''}, 'colorscale': [[0.0, '#0d0887'], [0.1111111111111111, '#46039f'], [0.2222222222222222, '#7201a8'], [0.3333333333333333, '#9c179e'], [0.4444444444444444, '#bd3786'], [0.5555555555555556, '#d8576b'], [0.6666666666666666, '#ed7953'], [0.7777777777777778, '#fb9f3a'], [0.8888888888888888, '#fdca26'], [1.0, '#f0f921']], 'type': 'heatmap'}], 'histogram2dcontour': [{'colorbar': {'outlinewidth': 0, 'ticks': ''}, 'colorscale': [[0.0, '#0d0887'], [0.1111111111111111, '#46039f'], [0.2222222222222222, '#7201a8'], [0.3333333333333333, '#9c179e'], [0.4444444444444444, '#bd3786'], [0.5555555555555556, '#d8576b'], [0.6666666666666666, '#ed7953'], [0.7777777777777778, '#fb9f3a'], [0.8888888888888888, '#fdca26'], [1.0, '#f0f921']], 'type': 'histogram2dcontour'}], 'histogram2d': [{'colorbar': {'outlinewidth': 0, 'ticks': ''}, 'colorscale': [[0.0, '#0d0887'], [0.1111111111111111, '#46039f'], [0.2222222222222222, '#7201a8'], [0.3333333333333333, '#9c179e'], [0.4444444444444444, '#bd3786'], [0.5555555555555556, '#d8576b'], [0.6666666666666666, '#ed7953'], [0.7777777777777778, '#fb9f3a'], [0.8888888888888888, '#fdca26'], [1.0, '#f0f921']], 'type': 'histogram2d'}], 'histogram': [{'marker': {'pattern': {'fillmode': 'overlay', 'size': 10, 'solidity': 0.2}}, 'type': 'histogram'}], 'mesh3d': [{'colorbar': {'outlinewidth': 0, 'ticks': ''}, 'type': 'mesh3d'}], 'parcoords': [{'line': {'colorbar': {'outlinewidth': 0, 'ticks': ''}}, 'type': 'parcoords'}], 'pie': [{'automargin': True, 'type': 'pie'}], 'scatter3d': [{'line': {'colorbar': {'outlinewidth': 0, 'ticks': ''}}, 'marker': {'colorbar': {'outlinewidth': 0, 'ticks': ''}}, 'type': 'scatter3d'}], 'scattercarpet': [{'marker': {'colorbar': {'outlinewidth': 0, 'ticks': ''}}, 'type': 'scattercarpet'}], 'scattergeo': [{'marker': {'colorbar': {'outlinewidth': 0, 'ticks': ''}}, 'type': 'scattergeo'}], 'scattergl': [{'marker': {'colorbar': {'outlinewidth': 0, 'ticks': ''}}, 'type': 'scattergl'}], 'scattermapbox': [{'marker': {'colorbar': {'outlinewidth': 0, 'ticks': ''}}, 'type': 'scattermapbox'}], 'scatterpolargl': [{'marker': {'colorbar': {'outlinewidth': 0, 'ticks': ''}}, 'type': 'scatterpolargl'}], 'scatterpolar': [{'marker': {'colorbar': {'outlinewidth': 0, 'ticks': ''}}, 'type': 'scatterpolar'}], 'scatter': [{'fillpattern': {'fillmode': 'overlay', 'size': 10, 'solidity': 0.2}, 'type': 'scatter'}], 'scatterternary': [{'marker': {'colorbar': {'outlinewidth': 0, 'ticks': ''}}, 'type': 'scatterternary'}], 'surface': [{'colorbar': {'outlinewidth': 0, 'ticks': ''}, 'colorscale': [[0.0, '#0d0887'], [0.1111111111111111, '#46039f'], [0.2222222222222222, '#7201a8'], [0.3333333333333333, '#9c179e'], [0.4444444444444444, '#bd3786'], [0.5555555555555556, '#d8576b'], [0.6666666666666666, '#ed7953'], [0.7777777777777778, '#fb9f3a'], [0.8888888888888888, '#fdca26'], [1.0, '#f0f921']], 'type': 'surface'}], 'table': [{'cells': {'fill': {'color': '#EBF0F8'}, 'line': {'color': 'white'}}, 'header': {'fill': {'color': '#C8D4E3'}, 'line': {'color': 'white'}}, 'type': 'table'}]}, 'layout': {'annotationdefaults': {'arrowcolor': '#2a3f5f', 'arrowhead': 0, 'arrowwidth': 1}, 'autotypenumbers': 'strict', 'coloraxis': {'colorbar': {'outlinewidth': 0, 'ticks': ''}}, 'colorscale': {'diverging': [[0, '#8e0152'], [0.1, '#c51b7d'], [0.2, '#de77ae'], [0.3, '#f1b6da'], [0.4, '#fde0ef'], [0.5, '#f7f7f7'], [0.6, '#e6f5d0'], [0.7, '#b8e186'], [0.8, '#7fbc41'], [0.9, '#4d9221'], [1, '#276419']], 'sequential': [[0.0, '#0d0887'], [0.1111111111111111, '#46039f'], [0.2222222222222222, '#7201a8'], [0.3333333333333333, '#9c179e'], [0.4444444444444444, '#bd3786'], [0.5555555555555556, '#d8576b'], [0.6666666666666666, '#ed7953'], [0.7777777777777778, '#fb9f3a'], [0.8888888888888888, '#fdca26'], [1.0, '#f0f921']], 'sequentialminus': [[0.0, '#0d0887'], [0.1111111111111111, '#46039f'], [0.2222222222222222, '#7201a8'], [0.3333333333333333, '#9c179e'], [0.4444444444444444, '#bd3786'], [0.5555555555555556, '#d8576b'], [0.6666666666666666, '#ed7953'], [0.7777777777777778, '#fb9f3a'], [0.8888888888888888, '#fdca26'], [1.0, '#f0f921']]}, 'colorway': ['#636efa', '#EF553B', '#00cc96', '#ab63fa', '#FFA15A', '#19d3f3', '#FF6692', '#B6E880', '#FF97FF', '#FECB52'], 'font': {'color': '#2a3f5f'}, 'geo': {'bgcolor': 'white', 'lakecolor': 'white', 'landcolor': 'white', 'showlakes': True, 'showland': True, 'subunitcolor': '#C8D4E3'}, 'hoverlabel': {'align': 'left'}, 'hovermode': 'closest', 'mapbox': {'style': 'light'}, 'paper_bgcolor': 'white', 'plot_bgcolor': 'white', 'polar': {'angularaxis': {'gridcolor': '#EBF0F8', 'linecolor': '#EBF0F8', 'ticks': ''}, 'bgcolor': 'white', 'radialaxis': {'gridcolor': '#EBF0F8', 'linecolor': '#EBF0F8', 'ticks': ''}}, 'scene': {'xaxis': {'backgroundcolor': 'white', 'gridcolor': '#DFE8F3', 'gridwidth': 2, 'linecolor': '#EBF0F8', 'showbackground': True, 'ticks': '', 'zerolinecolor': '#EBF0F8'}, 'yaxis': {'backgroundcolor': 'white', 'gridcolor': '#DFE8F3', 'gridwidth': 2, 'linecolor': '#EBF0F8', 'showbackground': True, 'ticks': '', 'zerolinecolor': '#EBF0F8'}, 'zaxis': {'backgroundcolor': 'white', 'gridcolor': '#DFE8F3', 'gridwidth': 2, 'linecolor': '#EBF0F8', 'showbackground': True, 'ticks': '', 'zerolinecolor': '#EBF0F8'}}, 'shapedefaults': {'line': {'color': '#2a3f5f'}}, 'ternary': {'aaxis': {'gridcolor': '#DFE8F3', 'linecolor': '#A2B1C6', 'ticks': ''}, 'baxis': {'gridcolor': '#DFE8F3', 'linecolor': '#A2B1C6', 'ticks': ''}, 'bgcolor': 'white', 'caxis': {'gridcolor': '#DFE8F3', 'linecolor': '#A2B1C6', 'ticks': ''}}, 'title': {'x': 0.05}, 'xaxis': {'automargin': True, 'gridcolor': '#EBF0F8', 'linecolor': '#EBF0F8', 'ticks': '', 'title': {'standoff': 15}, 'zerolinecolor': '#EBF0F8', 'zerolinewidth': 2}, 'yaxis': {'automargin': True, 'gridcolor': '#EBF0F8', 'linecolor': '#EBF0F8', 'ticks': '', 'title': {'standoff': 15}, 'zerolinecolor': '#EBF0F8', 'zerolinewidth': 2}}}, 'xaxis': {'tickfont': {'size': 8.8}, 'title': {'text': 'Month-Year'}}, 'yaxis': {'tickfont': {'size': 8.8}, 'title': {'text': 'Total Sales (Suggested Price Proxy)'}}, 'title': {'text': 'Total Sales by Month-Year', 'font': {'size': 13.2}}, 'hoverlabel': {'font': {'size': 8.8}}, 'plot_bgcolor': 'white'}}\\n\", 'chart_plotly_error': False, 'num_steps': 5}}\n",
      "---STATE PRINTER---\n",
      "User Question: \n",
      "What are the total sales by month-year? Use suggested price as a proxy for revenue for each transaction and a quantity of 1. Make a chart of sales over time. \n",
      "\n",
      "Formatted Question (SQL): What are the total sales by month-year? Use suggested price as a proxy for revenue for each transaction and a quantity of 1.\n",
      "SQL Query: \n",
      "SELECT strftime('%Y-%m', \"purchased_at\") AS \"month_year\", \n",
      "       SUM(\"suggested_price\") AS \"total_sales\"\n",
      "FROM transactions\n",
      "JOIN products ON transactions.\"product_id\" = products.\"product_id\"\n",
      "GROUP BY \"month_year\"\n",
      "ORDER BY \"month_year\";\n",
      "\n",
      "Data: \n",
      "   month_year    total_sales\n",
      "0     2018-04    9800.000000\n",
      "1     2018-05   21950.000000\n",
      "2     2018-06    5600.000000\n",
      "3     2018-07    7500.000000\n",
      "4     2018-08    7250.000000\n",
      "5     2018-09    9350.000000\n",
      "6     2018-10   13550.000000\n",
      "7     2018-11   18750.000000\n",
      "8     2018-12   11300.000000\n",
      "9     2019-01   29883.333333\n",
      "10    2019-02   11183.333333\n",
      "11    2019-03   14216.666667\n",
      "12    2019-04   21299.666667\n",
      "13    2019-05   35523.000000\n",
      "14    2019-06   59795.000000\n",
      "15    2019-07   26445.500000\n",
      "16    2019-08   28015.666667\n",
      "17    2019-09   29490.000000\n",
      "18    2019-10   57946.333333\n",
      "19    2019-11   80941.333333\n",
      "20    2019-12   51038.500000\n",
      "21    2020-01   44712.666667\n",
      "22    2020-02   42045.333333\n",
      "23    2020-03   41731.333333\n",
      "24    2020-04   65435.166667\n",
      "25    2020-05  105012.833333\n",
      "26    2020-06   50540.166667\n",
      "27    2020-07   60043.166667\n",
      "28    2020-08   48247.666667\n",
      "29    2020-09  154705.166667\n",
      "30    2020-10   56925.166667\n",
      "31    2020-11   86511.277778\n",
      "32    2020-12   93650.611111\n",
      "\n",
      "Chart or Table: chart\n",
      "('import pandas as pd\\n'\n",
      " 'import plotly.graph_objects as go\\n'\n",
      " 'import plotly.io as pio\\n'\n",
      " 'import json\\n'\n",
      " '\\n'\n",
      " '# Provided input data\\n'\n",
      " 'input_data = {\\n'\n",
      " \"    'month_year': [\\n\"\n",
      " \"        '2018-04', '2018-05', '2018-06', '2018-07', '2018-08',\\n\"\n",
      " \"        '2018-09', '2018-10', '2018-11', '2018-12', '2019-01',\\n\"\n",
      " \"        '2019-02', '2019-03', '2019-04', '2019-05', '2019-06',\\n\"\n",
      " \"        '2019-07', '2019-08', '2019-09', '2019-10', '2019-11',\\n\"\n",
      " \"        '2019-12', '2020-01', '2020-02', '2020-03', '2020-04',\\n\"\n",
      " \"        '2020-05', '2020-06', '2020-07', '2020-08', '2020-09',\\n\"\n",
      " \"        '2020-10', '2020-11', '2020-12'\\n\"\n",
      " '    ],\\n'\n",
      " \"    'total_sales': [\\n\"\n",
      " '        9800.000000, 21950.000000, 5600.000000, 7500.000000, 7250.000000,\\n'\n",
      " '        9350.000000, 13550.000000, 18750.000000, 11300.000000, '\n",
      " '29883.333333,\\n'\n",
      " '        11183.333333, 14216.666667, 21299.666667, 35523.000000, '\n",
      " '59795.000000,\\n'\n",
      " '        26445.500000, 28015.666667, 29490.000000, 57946.333333, '\n",
      " '80941.333333,\\n'\n",
      " '        51038.500000, 44712.666667, 42045.333333, 41731.333333, '\n",
      " '65435.166667,\\n'\n",
      " '        105012.833333, 50540.166667, 60043.166667, 48247.666667, '\n",
      " '154705.166667,\\n'\n",
      " '        56925.166667, 86511.277778, 93650.611111\\n'\n",
      " '    ]\\n'\n",
      " '}\\n'\n",
      " '\\n'\n",
      " '# Convert input data to DataFrame\\n'\n",
      " 'df = pd.DataFrame(input_data)\\n'\n",
      " '\\n'\n",
      " '# Create a line plot for total sales over time\\n'\n",
      " 'fig = go.Figure()\\n'\n",
      " \"fig.add_trace(go.Scatter(x=df['month_year'], y=df['total_sales'], \"\n",
      " \"mode='lines+markers', name='Total Sales'))\\n\"\n",
      " '\\n'\n",
      " '# Update layout of the figure\\n'\n",
      " 'fig.update_layout(\\n'\n",
      " \"    title='Total Sales by Month-Year',\\n\"\n",
      " \"    xaxis_title='Month-Year',\\n\"\n",
      " \"    yaxis_title='Total Sales (Suggested Price Proxy)',\\n\"\n",
      " \"    template='plotly_white',\\n\"\n",
      " \"    plot_bgcolor='white',\\n\"\n",
      " '    xaxis_tickfont=dict(size=8.8),\\n'\n",
      " '    yaxis_tickfont=dict(size=8.8),\\n'\n",
      " '    title_font=dict(size=13.2),\\n'\n",
      " '    hoverlabel=dict(font=dict(size=8.8))\\n'\n",
      " ')\\n'\n",
      " '\\n'\n",
      " '# Update traces to set line color and width\\n'\n",
      " \"fig.update_traces(line=dict(color='#3381ff', width=0.65))\\n\"\n",
      " '\\n'\n",
      " '# Convert the figure to JSON\\n'\n",
      " 'fig_json = pio.to_json(fig)\\n'\n",
      " 'fig_dict = json.loads(fig_json)\\n'\n",
      " '\\n'\n",
      " 'print(fig_dict)')\n",
      "Chart Code: \n",
      "None\n",
      "Chart Error: False\n",
      "Num Steps: 5\n"
     ]
    }
   ],
   "source": [
    "QUESTION = \"\"\"\n",
    "What are the total sales by month-year? Use suggested price as a proxy for revenue for each transaction and a quantity of 1. Make a chart of sales over time. \n",
    "\"\"\"\n",
    "inputs = {\"user_question\": QUESTION, \"num_steps\": 0}\n",
    "for s in app.stream(inputs):\n",
    "    print(s)"
   ]
  }
 ],
 "metadata": {
  "language_info": {
   "codemirror_mode": {
    "name": "ipython",
    "version": 3
   },
   "file_extension": ".py",
   "mimetype": "text/x-python",
   "name": "python",
   "nbconvert_exporter": "python",
   "pygments_lexer": "ipython3",
   "version": 3
  }
 },
 "nbformat": 4,
 "nbformat_minor": 2
}
